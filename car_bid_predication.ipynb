{
 "cells": [
  {
   "cell_type": "markdown",
   "metadata": {},
   "source": [
    "# ARIMA 自回归差分移动平均模型预测车牌成交价"
   ]
  },
  {
   "cell_type": "markdown",
   "metadata": {},
   "source": [
    "####  prepare bid history price data\n",
    "\n",
    "read from html: http://www.yunpaiwang.net/jiagezoushi/"
   ]
  },
  {
   "cell_type": "code",
   "execution_count": 116,
   "metadata": {
    "collapsed": true
   },
   "outputs": [],
   "source": [
    "%matplotlib inline\n",
    "import pandas as pd\n",
    "import matplotlib as mpl\n",
    "from matplotlib import pyplot as plt\n",
    "import numpy as np\n",
    "from datetime import datetime\n",
    "from sklearn.metrics import mean_squared_error"
   ]
  },
  {
   "cell_type": "code",
   "execution_count": 64,
   "metadata": {
    "collapsed": false
   },
   "outputs": [],
   "source": [
    "# 先用padas 读取试试看\n",
    "ls_tables= pd.read_html(\"http://www.yunpaiwang.net/jiagezoushi/\",header=0)\n",
    "df_bid= pd.concat(ls_tables)"
   ]
  },
  {
   "cell_type": "code",
   "execution_count": 65,
   "metadata": {
    "collapsed": false
   },
   "outputs": [
    {
     "data": {
      "text/html": [
       "<div>\n",
       "<table border=\"1\" class=\"dataframe\">\n",
       "  <thead>\n",
       "    <tr style=\"text-align: right;\">\n",
       "      <th></th>\n",
       "      <th>投放数量</th>\n",
       "      <th>投标人数</th>\n",
       "      <th>price</th>\n",
       "    </tr>\n",
       "  </thead>\n",
       "  <tbody>\n",
       "    <tr>\n",
       "      <th>count</th>\n",
       "      <td>115.000000</td>\n",
       "      <td>115.000000</td>\n",
       "      <td>115.000000</td>\n",
       "    </tr>\n",
       "    <tr>\n",
       "      <th>mean</th>\n",
       "      <td>8690.678261</td>\n",
       "      <td>81398.347826</td>\n",
       "      <td>61648.965217</td>\n",
       "    </tr>\n",
       "    <tr>\n",
       "      <th>std</th>\n",
       "      <td>1714.537227</td>\n",
       "      <td>87123.617521</td>\n",
       "      <td>21645.766854</td>\n",
       "    </tr>\n",
       "    <tr>\n",
       "      <th>min</th>\n",
       "      <td>4500.000000</td>\n",
       "      <td>10170.000000</td>\n",
       "      <td>15970.000000</td>\n",
       "    </tr>\n",
       "    <tr>\n",
       "      <th>25%</th>\n",
       "      <td>7675.500000</td>\n",
       "      <td>19044.500000</td>\n",
       "      <td>40169.000000</td>\n",
       "    </tr>\n",
       "    <tr>\n",
       "      <th>50%</th>\n",
       "      <td>8500.000000</td>\n",
       "      <td>25014.000000</td>\n",
       "      <td>66946.000000</td>\n",
       "    </tr>\n",
       "    <tr>\n",
       "      <th>75%</th>\n",
       "      <td>9454.500000</td>\n",
       "      <td>144198.000000</td>\n",
       "      <td>82262.000000</td>\n",
       "    </tr>\n",
       "    <tr>\n",
       "      <th>max</th>\n",
       "      <td>16000.000000</td>\n",
       "      <td>277889.000000</td>\n",
       "      <td>92250.000000</td>\n",
       "    </tr>\n",
       "  </tbody>\n",
       "</table>\n",
       "</div>"
      ],
      "text/plain": [
       "               投放数量           投标人数         price\n",
       "count    115.000000     115.000000    115.000000\n",
       "mean    8690.678261   81398.347826  61648.965217\n",
       "std     1714.537227   87123.617521  21645.766854\n",
       "min     4500.000000   10170.000000  15970.000000\n",
       "25%     7675.500000   19044.500000  40169.000000\n",
       "50%     8500.000000   25014.000000  66946.000000\n",
       "75%     9454.500000  144198.000000  82262.000000\n",
       "max    16000.000000  277889.000000  92250.000000"
      ]
     },
     "execution_count": 65,
     "metadata": {},
     "output_type": "execute_result"
    }
   ],
   "source": [
    "df_bid=df_bid.dropna()\n",
    "df_bid['price'] =  df_bid['平均成交价'].apply(lambda x: str(x).replace('元','')).astype(np.float)\n",
    "\n",
    "df_bid.describe()"
   ]
  },
  {
   "cell_type": "code",
   "execution_count": 70,
   "metadata": {
    "collapsed": false
   },
   "outputs": [
    {
     "data": {
      "text/html": [
       "<div>\n",
       "<table border=\"1\" class=\"dataframe\">\n",
       "  <thead>\n",
       "    <tr style=\"text-align: right;\">\n",
       "      <th></th>\n",
       "      <th>平均成交价</th>\n",
       "      <th>投放数量</th>\n",
       "      <th>投标人数</th>\n",
       "      <th>拍卖时间</th>\n",
       "      <th>最低成交价</th>\n",
       "      <th>最低成交价格截至时间</th>\n",
       "      <th>price</th>\n",
       "    </tr>\n",
       "    <tr>\n",
       "      <th>拍卖时间</th>\n",
       "      <th></th>\n",
       "      <th></th>\n",
       "      <th></th>\n",
       "      <th></th>\n",
       "      <th></th>\n",
       "      <th></th>\n",
       "      <th></th>\n",
       "    </tr>\n",
       "  </thead>\n",
       "  <tbody>\n",
       "    <tr>\n",
       "      <th>2017-04-01</th>\n",
       "      <td>89850</td>\n",
       "      <td>12196</td>\n",
       "      <td>252273</td>\n",
       "      <td>2017年4月</td>\n",
       "      <td>89800</td>\n",
       "      <td>11:29:59 第154位</td>\n",
       "      <td>89850</td>\n",
       "    </tr>\n",
       "    <tr>\n",
       "      <th>2017-05-01</th>\n",
       "      <td>90209</td>\n",
       "      <td>10316</td>\n",
       "      <td>270197</td>\n",
       "      <td>2017年5月</td>\n",
       "      <td>90100</td>\n",
       "      <td>11:29:55 第1145位</td>\n",
       "      <td>90209</td>\n",
       "    </tr>\n",
       "    <tr>\n",
       "      <th>2017-06-01</th>\n",
       "      <td>89532</td>\n",
       "      <td>10312</td>\n",
       "      <td>244349</td>\n",
       "      <td>2017年6月</td>\n",
       "      <td>89400</td>\n",
       "      <td>11:29:45 第766位</td>\n",
       "      <td>89532</td>\n",
       "    </tr>\n",
       "    <tr>\n",
       "      <th>2017-07-01</th>\n",
       "      <td>92250</td>\n",
       "      <td>10325</td>\n",
       "      <td>269189</td>\n",
       "      <td>2017年7月</td>\n",
       "      <td>92200</td>\n",
       "      <td>11:29:59 第1471位</td>\n",
       "      <td>92250</td>\n",
       "    </tr>\n",
       "    <tr>\n",
       "      <th>2017-08-01</th>\n",
       "      <td>91629</td>\n",
       "      <td>10558</td>\n",
       "      <td>256083</td>\n",
       "      <td>2017年8月</td>\n",
       "      <td>91600</td>\n",
       "      <td>11:29:59 第1468位</td>\n",
       "      <td>91629</td>\n",
       "    </tr>\n",
       "  </tbody>\n",
       "</table>\n",
       "</div>"
      ],
      "text/plain": [
       "            平均成交价   投放数量    投标人数     拍卖时间  最低成交价       最低成交价格截至时间  price\n",
       "拍卖时间                                                                    \n",
       "2017-04-01  89850  12196  252273  2017年4月  89800   11:29:59 第154位  89850\n",
       "2017-05-01  90209  10316  270197  2017年5月  90100  11:29:55 第1145位  90209\n",
       "2017-06-01  89532  10312  244349  2017年6月  89400   11:29:45 第766位  89532\n",
       "2017-07-01  92250  10325  269189  2017年7月  92200  11:29:59 第1471位  92250\n",
       "2017-08-01  91629  10558  256083  2017年8月  91600  11:29:59 第1468位  91629"
      ]
     },
     "execution_count": 70,
     "metadata": {},
     "output_type": "execute_result"
    }
   ],
   "source": [
    "df_bid.index= df_bid['拍卖时间'].apply(lambda x: datetime.strptime(x+'1','%Y年%m月%d'))\n",
    "df_bid = df_bid.sort_index()\n",
    "df_bid.sort_index().tail()"
   ]
  },
  {
   "cell_type": "code",
   "execution_count": 71,
   "metadata": {
    "collapsed": false
   },
   "outputs": [
    {
     "data": {
      "image/png": "[encoded data removed]",
      "text/plain": [
       "<matplotlib.figure.Figure at 0xd0972b0>"
      ]
     },
     "metadata": {},
     "output_type": "display_data"
    }
   ],
   "source": [
    "# plot acf\n",
    "from statsmodels.graphics.tsaplots import plot_acf,plot_pacf\n",
    "X = df_bid['price']\n",
    "\n",
    "\n",
    "fig = plt.figure(facecolor='#ff3333')\n",
    "ax1 = fig.add_subplot(211)\n",
    "plot_acf(X, ax = ax1, lags=10)\n",
    "ax2 = fig.add_subplot(212)\n",
    "plot_pacf(X, ax = ax2, lags=5)\n",
    "plt.show()\n"
   ]
  },
  {
   "cell_type": "code",
   "execution_count": 110,
   "metadata": {
    "collapsed": false
   },
   "outputs": [
    {
     "data": {
      "image/png": "[encoded data removed]",
      "text/plain": [
       "<matplotlib.figure.Figure at 0xcf10c88>"
      ]
     },
     "metadata": {},
     "output_type": "display_data"
    }
   ],
   "source": [
    "log10 = np.log10(X)\n",
    "diff = log10 - log10.shift(1)\n",
    "size = len(diff)\n",
    "plt.plot(np.arange(size), diff)\n",
    "plt.title('Differencing')\n",
    "fig_size = (10, 8)"
   ]
  },
  {
   "cell_type": "code",
   "execution_count": 102,
   "metadata": {
    "collapsed": false
   },
   "outputs": [
    {
     "name": "stdout",
     "output_type": "stream",
     "text": [
      "-320.6434883274504\n",
      "\n",
      "Residual Description:\n",
      "                 0\n",
      "count  114.000000\n",
      "mean     0.001557\n",
      "std      0.055858\n",
      "min     -0.440091\n",
      "25%     -0.016808\n",
      "50%     -0.003559\n",
      "75%      0.024507\n",
      "max      0.134365\n"
     ]
    },
    {
     "name": "stderr",
     "output_type": "stream",
     "text": [
      "C:\\WinPython-64bit-3.4.3.7\\python-3.4.3.amd64\\lib\\site-packages\\statsmodels\\base\\model.py:466: ConvergenceWarning: Maximum Likelihood optimization failed to converge. Check mle_retvals\n",
      "  \"Check mle_retvals\", ConvergenceWarning)\n"
     ]
    },
    {
     "data": {
      "text/plain": [
       "<matplotlib.text.Text at 0xbbafda0>"
      ]
     },
     "execution_count": 102,
     "metadata": {},
     "output_type": "execute_result"
    },
    {
     "data": {
      "image/png": "[encoded data removed]",
      "text/plain": [
       "<matplotlib.figure.Figure at 0xbb83710>"
      ]
     },
     "metadata": {},
     "output_type": "display_data"
    }
   ],
   "source": [
    "from statsmodels.tsa.arima_model import ARIMA, ARIMAResults, ARMAResults\n",
    "p, d, q = (4,1,2)\n",
    "model_fit = ARIMA(log_x, order = (p,d,q)).fit(disp=0)\n",
    "\n",
    "print(ARIMAResults.aic(model_fit))\n",
    "# plot residual errors\n",
    "residuals = pd.DataFrame(model_fit.resid)\n",
    "print('\\nResidual Description:\\n', residuals.describe())\n",
    "\n",
    "# pyplot.figure(3)\n",
    "residuals.plot.kde(figsize=fig_size).set_title('Residual Density')"
   ]
  },
  {
   "cell_type": "code",
   "execution_count": 153,
   "metadata": {
    "collapsed": false
   },
   "outputs": [
    {
     "name": "stderr",
     "output_type": "stream",
     "text": [
      "C:\\WinPython-64bit-3.4.3.7\\python-3.4.3.amd64\\lib\\site-packages\\statsmodels\\base\\model.py:466: ConvergenceWarning: Maximum Likelihood optimization failed to converge. Check mle_retvals\n",
      "  \"Check mle_retvals\", ConvergenceWarning)\n",
      "C:\\WinPython-64bit-3.4.3.7\\python-3.4.3.amd64\\lib\\site-packages\\statsmodels\\base\\model.py:466: ConvergenceWarning: Maximum Likelihood optimization failed to converge. Check mle_retvals\n",
      "  \"Check mle_retvals\", ConvergenceWarning)\n"
     ]
    },
    {
     "name": "stdout",
     "output_type": "stream",
     "text": [
      "2016-09-01 ,predicted=87141.71, expected=86523.00\n",
      "2016-10-01 ,predicted=87512.24, expected=88359.00\n",
      "2016-11-01 ,predicted=88086.18, expected=88665.00"
     ]
    },
    {
     "name": "stderr",
     "output_type": "stream",
     "text": [
      "C:\\WinPython-64bit-3.4.3.7\\python-3.4.3.amd64\\lib\\site-packages\\statsmodels\\base\\model.py:466: ConvergenceWarning: Maximum Likelihood optimization failed to converge. Check mle_retvals\n",
      "  \"Check mle_retvals\", ConvergenceWarning)\n",
      "C:\\WinPython-64bit-3.4.3.7\\python-3.4.3.amd64\\lib\\site-packages\\statsmodels\\base\\model.py:466: ConvergenceWarning: Maximum Likelihood optimization failed to converge. Check mle_retvals\n",
      "  \"Check mle_retvals\", ConvergenceWarning)\n"
     ]
    },
    {
     "name": "stdout",
     "output_type": "stream",
     "text": [
      "\n",
      "2016-12-01 ,predicted=89398.57, expected=88412.00\n",
      "2017-01-01 ,predicted=88718.94, expected=87685.00"
     ]
    },
    {
     "name": "stderr",
     "output_type": "stream",
     "text": [
      "C:\\WinPython-64bit-3.4.3.7\\python-3.4.3.amd64\\lib\\site-packages\\statsmodels\\base\\model.py:466: ConvergenceWarning: Maximum Likelihood optimization failed to converge. Check mle_retvals\n",
      "  \"Check mle_retvals\", ConvergenceWarning)\n",
      "C:\\WinPython-64bit-3.4.3.7\\python-3.4.3.amd64\\lib\\site-packages\\statsmodels\\base\\model.py:466: ConvergenceWarning: Maximum Likelihood optimization failed to converge. Check mle_retvals\n",
      "  \"Check mle_retvals\", ConvergenceWarning)\n"
     ]
    },
    {
     "name": "stdout",
     "output_type": "stream",
     "text": [
      "\n",
      "2017-02-01 ,predicted=89215.43, expected=88240.00\n",
      "2017-03-01 ,predicted=88944.64, expected=87916.00"
     ]
    },
    {
     "name": "stderr",
     "output_type": "stream",
     "text": [
      "C:\\WinPython-64bit-3.4.3.7\\python-3.4.3.amd64\\lib\\site-packages\\statsmodels\\base\\model.py:466: ConvergenceWarning: Maximum Likelihood optimization failed to converge. Check mle_retvals\n",
      "  \"Check mle_retvals\", ConvergenceWarning)\n",
      "C:\\WinPython-64bit-3.4.3.7\\python-3.4.3.amd64\\lib\\site-packages\\statsmodels\\base\\model.py:466: ConvergenceWarning: Maximum Likelihood optimization failed to converge. Check mle_retvals\n",
      "  \"Check mle_retvals\", ConvergenceWarning)\n"
     ]
    },
    {
     "name": "stdout",
     "output_type": "stream",
     "text": [
      "\n",
      "2017-04-01 ,predicted=89304.22, expected=89850.00\n",
      "2017-05-01 ,predicted=89444.57, expected=90209.00"
     ]
    },
    {
     "name": "stderr",
     "output_type": "stream",
     "text": [
      "C:\\WinPython-64bit-3.4.3.7\\python-3.4.3.amd64\\lib\\site-packages\\statsmodels\\base\\model.py:466: ConvergenceWarning: Maximum Likelihood optimization failed to converge. Check mle_retvals\n",
      "  \"Check mle_retvals\", ConvergenceWarning)\n",
      "C:\\WinPython-64bit-3.4.3.7\\python-3.4.3.amd64\\lib\\site-packages\\statsmodels\\base\\model.py:466: ConvergenceWarning: Maximum Likelihood optimization failed to converge. Check mle_retvals\n",
      "  \"Check mle_retvals\", ConvergenceWarning)\n"
     ]
    },
    {
     "name": "stdout",
     "output_type": "stream",
     "text": [
      "\n",
      "2017-06-01 ,predicted=90435.45, expected=89532.00\n",
      "2017-07-01 ,predicted=89897.59, expected=92250.00"
     ]
    },
    {
     "name": "stderr",
     "output_type": "stream",
     "text": [
      "C:\\WinPython-64bit-3.4.3.7\\python-3.4.3.amd64\\lib\\site-packages\\statsmodels\\base\\model.py:466: ConvergenceWarning: Maximum Likelihood optimization failed to converge. Check mle_retvals\n",
      "  \"Check mle_retvals\", ConvergenceWarning)\n",
      "C:\\WinPython-64bit-3.4.3.7\\python-3.4.3.amd64\\lib\\site-packages\\statsmodels\\base\\model.py:466: ConvergenceWarning: Maximum Likelihood optimization failed to converge. Check mle_retvals\n",
      "  \"Check mle_retvals\", ConvergenceWarning)\n"
     ]
    },
    {
     "name": "stdout",
     "output_type": "stream",
     "text": [
      "\n",
      "2017-08-01 ,predicted=91734.65, expected=91629.00\n"
     ]
    }
   ],
   "source": [
    "size = int(len(X) * 0.9)\n",
    "X = log10.values\n",
    "iX = log10.index\n",
    "\n",
    "train, test = X[0:size], X[size:len(X)]\n",
    "history = [x for x in train]\n",
    "predictions = list()\n",
    "truth = list()\n",
    "dates = list()\n",
    "# print(history.__len__())  # 17386 @ 99%\n",
    "for t in range(len(test)):\n",
    "    # print(history.__len__())  # starts at 11590\n",
    "    model = ARIMA(history, order=(5, 2, 2))\n",
    "    model_fit = model.fit(disp=-1)\n",
    "    output = model_fit.forecast()\n",
    "    y_hat = output[0]\n",
    "    y_hat_norm = pow(10, y_hat)\n",
    "    predictions.append(y_hat_norm)\n",
    "    obs = test[t]\n",
    "    obs_norm = pow(10, obs)\n",
    "    truth.append(obs_norm)\n",
    "    history.append(obs)\n",
    "    date_index = iX[size + t].date()\n",
    "    dates.append(date_index)\n",
    "    # print('Date Index: ', date_index)\n",
    "    # print('%s' % (iX[date_index].date()))\n",
    "    print('%s ,predicted=%.2f, expected=%.2f' % (date_index, y_hat_norm, obs_norm))\n",
    "    \n",
    "error = mean_squared_error(truth, predictions)\n",
    "results = zip(test, predictions)\n",
    " "
   ]
  },
  {
   "cell_type": "code",
   "execution_count": 155,
   "metadata": {
    "collapsed": false
   },
   "outputs": [
    {
     "data": {
      "text/plain": [
       "<matplotlib.legend.Legend at 0xd6e2160>"
      ]
     },
     "execution_count": 155,
     "metadata": {},
     "output_type": "execute_result"
    },
    {
     "data": {
      "image/png": "[encoded data removed]",
      "text/plain": [
       "<matplotlib.figure.Figure at 0xf6c8780>"
      ]
     },
     "metadata": {},
     "output_type": "display_data"
    }
   ],
   "source": [
    "fig = plt.figure()\n",
    "plt.plot(truth,'b-x',label='true')\n",
    "plt.plot(predictions,'g-o',label='predict')\n",
    "plt.legend()"
   ]
  },
  {
   "cell_type": "code",
   "execution_count": 156,
   "metadata": {
    "collapsed": false
   },
   "outputs": [
    {
     "name": "stdout",
     "output_type": "stream",
     "text": [
      "\n",
      "Model Summary:\n",
      "                              ARIMA Model Results                              \n",
      "==============================================================================\n",
      "Dep. Variable:                   D2.y   No. Observations:                  112\n",
      "Model:                 ARIMA(5, 2, 2)   Log Likelihood                 161.875\n",
      "Method:                       css-mle   S.D. of innovations              0.055\n",
      "Date:                Mon, 11 Sep 2017   AIC                           -305.750\n",
      "Time:                        18:59:41   BIC                           -281.284\n",
      "Sample:                             2   HQIC                          -295.823\n",
      "                                                                              \n",
      "==============================================================================\n",
      "                 coef    std err          z      P>|z|      [95.0% Conf. Int.]\n",
      "------------------------------------------------------------------------------\n",
      "const      -4.643e-05   7.01e-05     -0.662      0.509        -0.000  9.09e-05\n",
      "ar.L1.D2.y    -1.5659      0.097    -16.129      0.000        -1.756    -1.376\n",
      "ar.L2.D2.y    -0.9441      0.179     -5.285      0.000        -1.294    -0.594\n",
      "ar.L3.D2.y    -0.6498      0.191     -3.404      0.001        -1.024    -0.276\n",
      "ar.L4.D2.y    -0.4058      0.177     -2.296      0.024        -0.752    -0.059\n",
      "ar.L5.D2.y    -0.0972      0.096     -1.014      0.313        -0.285     0.091\n",
      "ma.L1.D2.y -6.528e-08      0.038  -1.73e-06      1.000        -0.074     0.074\n",
      "ma.L2.D2.y    -1.0000      0.038    -26.526      0.000        -1.074    -0.926\n",
      "                                    Roots                                    \n",
      "=============================================================================\n",
      "                 Real           Imaginary           Modulus         Frequency\n",
      "-----------------------------------------------------------------------------\n",
      "AR.1            0.3917           -1.4926j            1.5431           -0.2092\n",
      "AR.2            0.3917           +1.4926j            1.5431            0.2092\n",
      "AR.3           -1.0816           -0.0000j            1.0816           -0.5000\n",
      "AR.4           -1.9372           -0.4898j            1.9981           -0.4606\n",
      "AR.5           -1.9372           +0.4898j            1.9981            0.4606\n",
      "MA.1            1.0000           +0.0000j            1.0000            0.0000\n",
      "MA.2           -1.0000           +0.0000j            1.0000            0.5000\n",
      "-----------------------------------------------------------------------------\n"
     ]
    }
   ],
   "source": [
    "print('\\nModel Summary:\\n', model_fit.summary())\n",
    "# plt.savefig('output_figures.pdf', bbox_inches='tight')\n"
   ]
  },
  {
   "cell_type": "code",
   "execution_count": 157,
   "metadata": {
    "collapsed": false
   },
   "outputs": [
    {
     "name": "stdout",
     "output_type": "stream",
     "text": [
      "[]\n"
     ]
    }
   ],
   "source": [
    "from matplotlib.backends.backend_pdf import PdfPages\n",
    "\n",
    "def multipage(filename, figs=None, dpi=200):\n",
    "    pp = PdfPages(filename)\n",
    "    if figs is None:\n",
    "        figs = [plt.figure(n) for n in plt.get_fignums()]\n",
    "        print(figs)\n",
    "    for fig in figs:\n",
    "        fig.savefig(pp, format='pdf', bbox_inches='tight')\n",
    "    pp.close()\n",
    "\n",
    "\n",
    "multipage('0.1.1 output_figures.pdf')"
   ]
  }
 ],
 "metadata": {
  "kernelspec": {
   "display_name": "Python 3",
   "language": "python",
   "name": "python3"
  },
  "language_info": {
   "codemirror_mode": {
    "name": "ipython",
    "version": 3
   },
   "file_extension": ".py",
   "mimetype": "text/x-python",
   "name": "python",
   "nbconvert_exporter": "python",
   "pygments_lexer": "ipython3",
   "version": "3.4.3"
  }
 },
 "nbformat": 4,
 "nbformat_minor": 0
}
